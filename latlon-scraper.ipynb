{
 "cells": [
  {
   "cell_type": "code",
   "execution_count": 17,
   "metadata": {},
   "outputs": [],
   "source": [
    "import pandas as pd\n",
    "# df = pd.read_csv(\"hospitals_ratings.csv\")\n",
    "# df['Latitude'] = [None] * len(df)\n",
    "# df['Longitude'] = [None] * len(df)\n",
    "\n",
    "df = pd.read_csv(\"hospitals_coordinates.csv\")"
   ]
  },
  {
   "cell_type": "code",
   "execution_count": 18,
   "metadata": {},
   "outputs": [],
   "source": [
    "import pandas as pd\n",
    "from selenium import webdriver\n",
    "from selenium.webdriver.chrome.service import Service\n",
    "from selenium.webdriver.common.keys import Keys\n",
    "from selenium.webdriver.common.by import By\n",
    "from selenium.webdriver.support.ui import WebDriverWait\n",
    "from selenium.webdriver.support import expected_conditions as EC\n",
    "from selenium.webdriver.common.action_chains import ActionChains\n",
    "\n",
    "import time"
   ]
  },
  {
   "cell_type": "code",
   "execution_count": 19,
   "metadata": {},
   "outputs": [],
   "source": [
    "def search_location(driver : webdriver.Edge, plusCode: str):\n",
    "    search_box = driver.find_element(By.ID, 'searchboxinput')\n",
    "    search_box.clear()\n",
    "    search_box.send_keys(plusCode)\n",
    "    search_box.send_keys(Keys.RETURN)\n",
    "    WebDriverWait(driver, 5).until(EC.url_changes(driver.current_url))"
   ]
  },
  {
   "cell_type": "code",
   "execution_count": 20,
   "metadata": {},
   "outputs": [],
   "source": [
    "def getCoordinates(plusCode: str, driver: webdriver.Edge) -> tuple[str, str]:\n",
    "    search_location(driver, plusCode)\n",
    "    try:\n",
    "        close_button = WebDriverWait(driver, 4).until(\n",
    "            EC.element_to_be_clickable((By.CSS_SELECTOR, \"button[aria-label='Close']\"))\n",
    "        )\n",
    "    except:\n",
    "        close_button = WebDriverWait(driver, 4).until(\n",
    "            EC.element_to_be_clickable((By.CSS_SELECTOR, \"button[aria-label='Close directions']\"))\n",
    "        )\n",
    "    close_button.click()\n",
    "    WebDriverWait(driver, 5).until(EC.url_changes(driver.current_url))\n",
    "\n",
    "    lat, lon = driver.current_url.split('@')[1].split(',')[0:2]\n",
    "    \n",
    "    return lat, lon"
   ]
  },
  {
   "cell_type": "code",
   "execution_count": 22,
   "metadata": {},
   "outputs": [],
   "source": [
    "edge_driver_path = \"E:/Downloads/edgedriver_win64/msedgedriver.exe\"\n",
    "service = Service(edge_driver_path)\n",
    "driver = webdriver.Edge(service=service)\n",
    "\n",
    "driver.get('https://www.google.com/maps')\n",
    "# time.sleep(5)\n",
    "with open('error_log_coors.txt', 'w') as f:\n",
    "    for i in range(2340, len(df)):\n",
    "        try:\n",
    "            if not pd.isna(df['Plus Code'][i]):\n",
    "                lat, lon = getCoordinates(df['Plus Code'][i], driver)\n",
    "                df.at[i, 'Latitude'] = lat\n",
    "                df.at[i, 'Longitude'] = lon\n",
    "                print(f'{i}/{len(df)} done. {lat}, {lon}')\n",
    "            if i % 10 == 0:\n",
    "                df.to_csv(\"hospitals_coordinates.csv\", index=False)\n",
    "        except:\n",
    "            f.write(f\"Error at {i}\\n\")\n",
    "            time.sleep(2)\n",
    "            continue\n"
   ]
  }
 ],
 "metadata": {
  "kernelspec": {
   "display_name": "Python 3",
   "language": "python",
   "name": "python3"
  },
  "language_info": {
   "codemirror_mode": {
    "name": "ipython",
    "version": 3
   },
   "file_extension": ".py",
   "mimetype": "text/x-python",
   "name": "python",
   "nbconvert_exporter": "python",
   "pygments_lexer": "ipython3",
   "version": "3.10.8"
  }
 },
 "nbformat": 4,
 "nbformat_minor": 2
}
