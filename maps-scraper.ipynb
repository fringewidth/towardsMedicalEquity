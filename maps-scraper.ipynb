{
 "cells": [
  {
   "cell_type": "code",
   "execution_count": 113,
   "metadata": {},
   "outputs": [],
   "source": [
    "import pandas as pd\n",
    "from selenium import webdriver\n",
    "from selenium.webdriver.chrome.service import Service\n",
    "from selenium.webdriver.common.keys import Keys\n",
    "from selenium.webdriver.common.by import By\n",
    "from selenium.webdriver.support.ui import WebDriverWait\n",
    "from selenium.webdriver.support import expected_conditions as EC\n",
    "import time"
   ]
  },
  {
   "cell_type": "code",
   "execution_count": 114,
   "metadata": {},
   "outputs": [],
   "source": [
    "# UPDATE THIS\n",
    "csvIndex = 3\n",
    "edge_driver_path = \"E:/Downloads/edgedriver_win64/msedgedriver.exe\""
   ]
  },
  {
   "cell_type": "code",
   "execution_count": 115,
   "metadata": {},
   "outputs": [],
   "source": [
    "hospitals = pd.read_csv(f'hospitals_{csvIndex}.csv')\n",
    "hospitals.drop(columns=['PPN / NON PPN', 'Address'], inplace=True)"
   ]
  },
  {
   "cell_type": "code",
   "execution_count": 116,
   "metadata": {},
   "outputs": [],
   "source": [
    "hospitals['Rating'] = [None] * len(hospitals)\n",
    "hospitals['Number of Reviews'] = [None] * len(hospitals)\n",
    "hospitals['Plus Code'] = [None] * len(hospitals)"
   ]
  },
  {
   "cell_type": "code",
   "execution_count": 117,
   "metadata": {},
   "outputs": [],
   "source": [
    "def getFullAddress(rowIndex):\n",
    "    print(\"Generating full address for row\", rowIndex)\n",
    "    return ', '.join(hospitals.iloc[rowIndex].dropna()).replace('\\n', '').replace('\\r', '')"
   ]
  },
  {
   "cell_type": "code",
   "execution_count": 118,
   "metadata": {},
   "outputs": [],
   "source": [
    "def searchForAddress(address, driver):\n",
    "    print(\"Searching for address:\", address)\n",
    "    search_box = driver.find_element(By.ID, 'searchboxinput')\n",
    "    search_box.clear() \n",
    "    search_box.send_keys(address)\n",
    "    search_box.send_keys(Keys.RETURN)         \n",
    "\n",
    "    print(\"Searched\")"
   ]
  },
  {
   "cell_type": "code",
   "execution_count": 119,
   "metadata": {},
   "outputs": [],
   "source": [
    "\"\"\"\n",
    "EXAMPLE HTML\n",
    "<div class=\"F7nice \" jslog=\"76333;mutable:true;\">\n",
    "    <span>\n",
    "        <span aria-hidden=\"true\">4.8</span>\n",
    "        <span class=\"ceNzKf\" role=\"img\" aria-label=\"4.8 stars \">\n",
    "            <span class=\"rFrJzc\"></span>\n",
    "            <span class=\"rFrJzc\"></span>\n",
    "            <span class=\"rFrJzc\"></span>\n",
    "            <span class=\"rFrJzc\"></span>\n",
    "            <span class=\"rFrJzc\"></span>\n",
    "        </span>\n",
    "    </span>\n",
    "    <span>\n",
    "        <span>\n",
    "            <span aria-label=\"1,168 reviews\">(1,168)</span>\n",
    "        </span>\n",
    "    </span>\n",
    "</div>\n",
    "\"\"\"\n",
    "\n",
    "def scrape_data(driver):\n",
    "    time.sleep(2)\n",
    "    print(\"Scraping data\")\n",
    "    if driver.current_url.startswith(\"https://www.google.com/maps/search/\"):\n",
    "        print(\"In search page\")\n",
    "        try:\n",
    "            WebDriverWait(driver, 4).until(\n",
    "                EC.presence_of_element_located((By.CSS_SELECTOR, \"a.hfpxzc\"))\n",
    "            ).click()\n",
    "        except Exception as e:\n",
    "            print(\"No search results found:\", e)\n",
    "            return None, None, None\n",
    "\n",
    "\n",
    "    def get_element_text(selector, attribute=None):\n",
    "        try:\n",
    "            element = WebDriverWait(driver, 4).until(\n",
    "                EC.presence_of_element_located((By.CSS_SELECTOR, selector))\n",
    "            )\n",
    "            return element.get_attribute(attribute) if attribute else element.text\n",
    "        except Exception as e:\n",
    "            print(f\"Error scraping {selector}:\", e)\n",
    "            return None\n",
    "\n",
    "    rating = get_element_text(\"div.F7nice span[aria-hidden='true']\")\n",
    "    num_reviews = get_element_text(\"div.F7nice span > span > span[aria-label]\", \"aria-label\")\n",
    "    if num_reviews:\n",
    "        num_reviews = int(num_reviews.strip('()').replace(',', '').split(' ')[0])\n",
    "    plus_code = get_element_text(\"button.CsEnBe[aria-label*='Plus code: ']\", \"aria-label\")\n",
    "    if plus_code:\n",
    "        plus_code = plus_code.split(': ')[1]\n",
    "    \n",
    "    print(\"Scraped data:\", rating, num_reviews, plus_code)\n",
    "    return rating, num_reviews, plus_code\n",
    "\n",
    "\n"
   ]
  },
  {
   "cell_type": "code",
   "execution_count": 1,
   "metadata": {},
   "outputs": [],
   "source": [
    "service = Service(edge_driver_path)\n",
    "driver = webdriver.Edge(service=service)\n",
    "\n",
    "driver.get('https://www.google.com/maps')\n",
    "with open(f\"error_log{csvIndex}.txt\", \"w\") as f:\n",
    "    for i in range(len(hospitals)):\n",
    "        try:\n",
    "            print(f\"Processing row {i}\")\n",
    "            address = getFullAddress(i)\n",
    "            searchForAddress(address, driver)\n",
    "\n",
    "\n",
    "            rating, num_reviews, plus_code = scrape_data(driver)\n",
    "\n",
    "            hospitals.at[i, 'Rating'] = rating\n",
    "            hospitals.at[i, 'Number of Reviews'] = num_reviews\n",
    "            hospitals.at[i, 'Plus Code'] = plus_code\n",
    "\n",
    "            try:\n",
    "                close_button = WebDriverWait(driver, 4).until(\n",
    "                    EC.element_to_be_clickable((By.CSS_SELECTOR, \"button[aria-label='Close']\"))\n",
    "                )\n",
    "            except:\n",
    "                close_button = WebDriverWait(driver, 4).until(\n",
    "                    EC.element_to_be_clickable((By.CSS_SELECTOR, \"button[aria-label='Close directions']\"))\n",
    "                )\n",
    "            close_button.click()\n",
    "\n",
    "            if i % 10 == 0:\n",
    "                hospitals.to_csv(f'hospitals_{csvIndex}_ratings.csv', index=False)\n",
    "\n",
    "        except Exception as e:\n",
    "            f.write(f\"Error at index {i}: {str(e)}\\n\")\n",
    "            f.flush()\n",
    "            continue\n",
    "hospitals.to_csv(f'hospitals_{csvIndex}_ratings.csv', index=False)\n",
    "        \n",
    "driver.quit()"
   ]
  }
 ],
 "metadata": {
  "kernelspec": {
   "display_name": "Python 3",
   "language": "python",
   "name": "python3"
  },
  "language_info": {
   "codemirror_mode": {
    "name": "ipython",
    "version": 3
   },
   "file_extension": ".py",
   "mimetype": "text/x-python",
   "name": "python",
   "nbconvert_exporter": "python",
   "pygments_lexer": "ipython3",
   "version": "3.10.8"
  }
 },
 "nbformat": 4,
 "nbformat_minor": 2
}
